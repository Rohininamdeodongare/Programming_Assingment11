{
 "cells": [
  {
   "cell_type": "code",
   "execution_count": null,
   "id": "a7e98ea6",
   "metadata": {},
   "outputs": [],
   "source": [
    "   Programming_Assingment No :- 11"
   ]
  },
  {
   "cell_type": "code",
   "execution_count": 1,
   "id": "75941f44",
   "metadata": {},
   "outputs": [
    {
     "name": "stdout",
     "output_type": "stream",
     "text": [
      "Enter the string: INeuron Full Stack Data Science Course is Awesome\n",
      "Enter the length of the string: 5\n",
      "INeuron,Science,Course,Awesome\n"
     ]
    }
   ],
   "source": [
    "Q1. Write a Python program to find words which are greater than given length k ?\n",
    "Answer:-\n",
    "def checkLengthOfString():\n",
    "    in_string = input(\"Enter the string: \")\n",
    "    in_length = int(input('Enter the length of the string: '))\n",
    "    out_string = []\n",
    "    for string in in_string.split(\" \"):\n",
    "        if len(string) > in_length:\n",
    "            out_string.append(string)\n",
    "    print(','.join(out_string))\n",
    "\n",
    "checkLengthOfString()"
   ]
  },
  {
   "cell_type": "code",
   "execution_count": 2,
   "id": "f6b21164",
   "metadata": {},
   "outputs": [
    {
     "name": "stdout",
     "output_type": "stream",
     "text": [
      "Enter the String: Ineuron\n",
      "Enter the ith Character: 4\n",
      "Ineuon\n"
     ]
    }
   ],
   "source": [
    "Q2. Write a Python program for removing i-th character from a string ?\n",
    "Answer:-\n",
    "def removeCharacter():\n",
    "    in_string = input(\"Enter the String: \")\n",
    "    in_char_num = int(input(\"Enter the ith Character: \"))\n",
    "    out_string = ''\n",
    "    for ele in range(len(in_string)):\n",
    "        if ele != in_char_num:\n",
    "            out_string = out_string + in_string[ele]\n",
    "    print(out_string)\n",
    "    \n",
    "removeCharacter()"
   ]
  },
  {
   "cell_type": "code",
   "execution_count": 4,
   "id": "ee6d0323",
   "metadata": {},
   "outputs": [
    {
     "name": "stdout",
     "output_type": "stream",
     "text": [
      "Enter the string: Ineuron Full Stack Data Science Course\n",
      " Split String: ['Ineuron', 'Full', 'Stack', 'Data', 'Science', 'Course']\n",
      "Join String:IneuronFullStackDataScienceCourse\n"
     ]
    }
   ],
   "source": [
    "Q3. Write a Python program to split and join a string ?\n",
    "Answer:-\n",
    "def splitJoinString():\n",
    "    in_string = input('Enter the string: ')\n",
    "    print(f\" Split String: {in_string.split(' ')}\")\n",
    "    print(f\"Join String:{''.join(in_string.split(' '))}\")\n",
    "    \n",
    "splitJoinString()"
   ]
  },
  {
   "cell_type": "code",
   "execution_count": 5,
   "id": "7f0f60b4",
   "metadata": {},
   "outputs": [
    {
     "name": "stdout",
     "output_type": "stream",
     "text": [
      "Enter the string: 23456\n",
      "23456is not a binary string\n",
      "Enter the string: 10101101\n",
      "10101101is a binary string\n"
     ]
    }
   ],
   "source": [
    "Q4. Write a Python to check if a given string is binary string or not ?\n",
    "Answer:-\n",
    "def checkBinary():\n",
    "    in_string = input('Enter the string: ')\n",
    "    stun = 0\n",
    "    for ele in in_string:\n",
    "        if ele in ['0', '1']:\n",
    "            stun = 1\n",
    "            continue\n",
    "        else:\n",
    "            stun = 0\n",
    "            break\n",
    "    statement = 'is a binary string' if stun ==1 else 'is not a binary string'\n",
    "    print(f'{in_string}{statement}')\n",
    "    \n",
    "    \n",
    "checkBinary()\n",
    "checkBinary()"
   ]
  },
  {
   "cell_type": "code",
   "execution_count": 4,
   "id": "b49c1ad1",
   "metadata": {},
   "outputs": [
    {
     "name": "stdout",
     "output_type": "stream",
     "text": [
      "Enter the string 1: full stack data science course\n",
      "Enter the string 2: unfull stack data science course\n",
      "{'full', 'unfull'}\n"
     ]
    }
   ],
   "source": [
    "Q.5. Write a Python program to find uncommon words from two Strings ?\n",
    "Answer:-\n",
    "def unCommonWords():\n",
    "    in_string_1 = set(input(\"Enter the string 1: \").split(' '))\n",
    "    in_string_2 = set(input(\"Enter the string 2: \").split(' '))\n",
    "    out_string = (in_string_1.union(in_string_2)).difference(in_string_1.intersection(in_string_2))\n",
    "    print(out_string)\n",
    "    \n",
    "unCommonWords()\n",
    "    "
   ]
  },
  {
   "cell_type": "code",
   "execution_count": 1,
   "id": "2e55e0cf",
   "metadata": {},
   "outputs": [
    {
     "name": "stdout",
     "output_type": "stream",
     "text": [
      "Enter the string:  full stack data science course\n",
      "Duplicate characters are:[' ', 'u', 'a', 'c', 't', 'e', 'l', 's']\n"
     ]
    }
   ],
   "source": [
    "Q.6. Write a Python to find all duplicate characters in string ?\n",
    "Answer:-\n",
    "def duplicateChars():\n",
    "    in_string = input('Enter the string: ')\n",
    "    non_duplicate_list = []\n",
    "    duplicate_list = []\n",
    "    for ele in in_string:\n",
    "        if ele not in non_duplicate_list:\n",
    "            non_duplicate_list.append(ele)\n",
    "        else:\n",
    "            duplicate_list.append(ele)\n",
    "    print(f'Duplicate characters are:{list(set(duplicate_list))}')\n",
    "duplicateChars()"
   ]
  },
  {
   "cell_type": "code",
   "execution_count": 2,
   "id": "4f04f1c0",
   "metadata": {},
   "outputs": [
    {
     "name": "stdout",
     "output_type": "stream",
     "text": [
      "Enter the string:Rohini @ 2912 Dongare# &name\n",
      "There are3 Special Character inRohini @ 2912 Dongare# &name which are ['@', '#', '&']\n",
      "Enter the string:Rohini Namdeo Dongare: Name\n",
      "There are1 Special Character inRohini Namdeo Dongare: Name which are [':']\n"
     ]
    }
   ],
   "source": [
    "def checkSpecialChar():\n",
    "    spl_chars = '[@_()*&^T^#$%^$$#@$%^^&:]'\n",
    "    in_num = input('Enter the string:')\n",
    "    count = 0\n",
    "    char_list = []\n",
    "    for ele in in_num:\n",
    "        if ele in spl_chars:\n",
    "            char_list.append(ele)\n",
    "            count = count+1\n",
    "    print(f'There are{count} Special Character in{in_num} which are {char_list}')\n",
    "\n",
    "checkSpecialChar()\n",
    "checkSpecialChar()"
   ]
  },
  {
   "cell_type": "code",
   "execution_count": null,
   "id": "4b155e57",
   "metadata": {},
   "outputs": [],
   "source": []
  }
 ],
 "metadata": {
  "kernelspec": {
   "display_name": "Python 3 (ipykernel)",
   "language": "python",
   "name": "python3"
  },
  "language_info": {
   "codemirror_mode": {
    "name": "ipython",
    "version": 3
   },
   "file_extension": ".py",
   "mimetype": "text/x-python",
   "name": "python",
   "nbconvert_exporter": "python",
   "pygments_lexer": "ipython3",
   "version": "3.9.12"
  }
 },
 "nbformat": 4,
 "nbformat_minor": 5
}
